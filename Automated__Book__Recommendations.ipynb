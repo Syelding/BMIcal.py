{
  "nbformat": 4,
  "nbformat_minor": 0,
  "metadata": {
    "colab": {
      "provenance": [],
      "authorship_tag": "ABX9TyObNTHIWs3i+T1Fl2g8LRV7",
      "include_colab_link": true
    },
    "kernelspec": {
      "name": "python3",
      "display_name": "Python 3"
    },
    "language_info": {
      "name": "python"
    }
  },
  "cells": [
    {
      "cell_type": "markdown",
      "metadata": {
        "id": "view-in-github",
        "colab_type": "text"
      },
      "source": [
        "<a href=\"https://colab.research.google.com/github/Syelding/BMIcal.py/blob/main/Automated__Book__Recommendations.ipynb\" target=\"_parent\"><img src=\"https://colab.research.google.com/assets/colab-badge.svg\" alt=\"Open In Colab\"/></a>"
      ]
    },
    {
      "cell_type": "code",
      "source": [
        "#Import Necessary Libraries\n",
        "!pip install requests\n",
        "import pandas as pd\n",
        "import requests"
      ],
      "metadata": {
        "colab": {
          "base_uri": "https://localhost:8080/"
        },
        "id": "5yRKhacnuFQj",
        "outputId": "946d3bad-db60-4cec-c2a2-cf555ae67b81"
      },
      "execution_count": 6,
      "outputs": [
        {
          "output_type": "stream",
          "name": "stdout",
          "text": [
            "Requirement already satisfied: requests in /usr/local/lib/python3.10/dist-packages (2.31.0)\n",
            "Requirement already satisfied: charset-normalizer<4,>=2 in /usr/local/lib/python3.10/dist-packages (from requests) (3.3.2)\n",
            "Requirement already satisfied: idna<4,>=2.5 in /usr/local/lib/python3.10/dist-packages (from requests) (3.6)\n",
            "Requirement already satisfied: urllib3<3,>=1.21.1 in /usr/local/lib/python3.10/dist-packages (from requests) (2.0.7)\n",
            "Requirement already satisfied: certifi>=2017.4.17 in /usr/local/lib/python3.10/dist-packages (from requests) (2023.11.17)\n"
          ]
        }
      ]
    },
    {
      "cell_type": "code",
      "source": [
        "#Book dataset (title,author,genre)\n",
        "books = [\n",
        "    {'title': 'Book 1', 'author': 'Author A', 'genre': 'Fantasy'},\n",
        "    {'title': 'Book 2', 'author': 'Author B', 'genre': 'Science Fiction'},\n",
        "    {'title': 'Book 3', 'author': 'Author C', 'genre':'Mystery'},\n",
        "    {'title': 'Book 4', 'author': 'Author D', 'genre': 'Romance'},\n",
        "    {'title': 'Book 5', 'author': 'Author E', 'genre': 'Non Fiction'},\n",
        "]"
      ],
      "metadata": {
        "id": "sX3yhgNwuFNi"
      },
      "execution_count": 7,
      "outputs": []
    },
    {
      "cell_type": "code",
      "source": [
        "# Function to recommend books based on genre\n",
        "def recommend_books(genre, num_recommendations=3):\n",
        "    recommended_books = []\n",
        "    for book in books:\n",
        "        if book['genre'] == genre:\n",
        "            recommended_books.append(book['title'])\n",
        "\n",
        "    if recommended_books:\n",
        "        if len(recommended_books) <= num_recommendations:\n",
        "            print(f\"Here are some {genre} books you might like: {', '.join(recommended_books)}\")\n",
        "        else:\n",
        "            print(f\"Here are some {genre} books you might like: {', '.join(recommended_books[:num_recommendations])}\")\n",
        "    else:\n",
        "        print(f\"Sorry, no {genre} books found in the dataset.\")"
      ],
      "metadata": {
        "id": "CY1adzyguFKi"
      },
      "execution_count": 8,
      "outputs": []
    },
    {
      "cell_type": "code",
      "source": [
        "#Create a table of 15 books in each genre using Goodle API\n",
        "def fetch_books_data(query):\n",
        "    url = f\"https://www.googleapis.com/books/v1/volumes?q={query}&maxResults=40\"  # Fetching 40 books for more options\n",
        "    response = requests.get(url)\n",
        "\n",
        "    if response.status_code == 200:\n",
        "        data = response.json()\n",
        "        return data\n",
        "    else:\n",
        "        print(\"Failed to fetch data.\")\n",
        "        return None\n",
        "\n",
        "def create_books_table(book_data):\n",
        "    books = []\n",
        "    if book_data and 'items' in book_data:\n",
        "        for book in book_data['items']:\n",
        "            volume_info = book['volumeInfo']\n",
        "            title = volume_info['title']\n",
        "            authors = volume_info.get('authors', ['Unknown'])\n",
        "            categories = volume_info.get('categories', ['Unknown'])\n",
        "            for category in categories:\n",
        "                if category in ['Fantasy', 'Mystery', 'Science Fiction', 'Romance', 'Non Fiction']:\n",
        "                    for author in authors:\n",
        "                        books.append({'Author': author, 'Genre': category, 'Title': title})\n",
        "\n",
        "    books_df = pd.DataFrame(books)\n",
        "    filtered_books = {}\n",
        "    for genre in ['Fantasy', 'Mystery', 'Science Fiction', 'Romance', 'Non Fiction']:\n",
        "        filtered_books[genre] = books_df[books_df['Genre'] == genre].head(15)\n",
        "    return filtered_books"
      ],
      "metadata": {
        "id": "3M6rcMQquFE6"
      },
      "execution_count": 9,
      "outputs": []
    },
    {
      "cell_type": "code",
      "source": [
        "# Code in Use:\n",
        "user_query = \"fiction\"  # Replace this with any book-related query\n",
        "book_data = fetch_books_data(user_query)\n",
        "books_df = pd.DataFrame(book_data['items'])\n",
        "books_df['Genre'] = books_df['volumeInfo'].apply(lambda x: x['categories'][0])\n",
        "\n",
        "# Displaying 15 books from each genre\n",
        "for genre in ['Fantasy', 'Mystery', 'Science Fiction', 'Romance', 'Non Fiction']:\n",
        "    print(f\"{genre} Books:\")\n",
        "    print(books_df[books_df['Genre'] == genre].head(15))\n",
        "    print(\"------\")"
      ],
      "metadata": {
        "colab": {
          "base_uri": "https://localhost:8080/"
        },
        "id": "04L636x8-Tj1",
        "outputId": "ab439fac-5961-4c26-d87e-2bce279749a7"
      },
      "execution_count": 11,
      "outputs": [
        {
          "output_type": "stream",
          "name": "stdout",
          "text": [
            "Fantasy Books:\n",
            "Empty DataFrame\n",
            "Columns: [kind, id, etag, selfLink, volumeInfo, saleInfo, accessInfo, searchInfo, Genre]\n",
            "Index: []\n",
            "------\n",
            "Mystery Books:\n",
            "Empty DataFrame\n",
            "Columns: [kind, id, etag, selfLink, volumeInfo, saleInfo, accessInfo, searchInfo, Genre]\n",
            "Index: []\n",
            "------\n",
            "Science Fiction Books:\n",
            "Empty DataFrame\n",
            "Columns: [kind, id, etag, selfLink, volumeInfo, saleInfo, accessInfo, searchInfo, Genre]\n",
            "Index: []\n",
            "------\n",
            "Romance Books:\n",
            "Empty DataFrame\n",
            "Columns: [kind, id, etag, selfLink, volumeInfo, saleInfo, accessInfo, searchInfo, Genre]\n",
            "Index: []\n",
            "------\n",
            "Non Fiction Books:\n",
            "Empty DataFrame\n",
            "Columns: [kind, id, etag, selfLink, volumeInfo, saleInfo, accessInfo, searchInfo, Genre]\n",
            "Index: []\n",
            "------\n"
          ]
        }
      ]
    },
    {
      "cell_type": "code",
      "source": [
        "#Utilizing Google Books API\n",
        "\n",
        "def fetch_books_data(query):\n",
        "    url = f\"https://www.googleapis.com/books/v1/volumes?q={query}&maxResults=40\"  # Fetching 40 books for more options\n",
        "    response = requests.get(url)\n",
        "\n",
        "    if response.status_code == 200:\n",
        "        data = response.json()\n",
        "        return data\n",
        "    else:\n",
        "        print(\"Failed to fetch data.\")\n",
        "        return None\n",
        "\n",
        "def create_books_table(book_data):\n",
        "    books = []\n",
        "    if book_data and 'items' in book_data:\n",
        "        for book in book_data['items']:\n",
        "            volume_info = book['volumeInfo']\n",
        "            title = volume_info['title']\n",
        "            authors = volume_info.get('authors', ['Unknown'])\n",
        "            categories = volume_info.get('categories', ['Unknown'])\n",
        "            for category in categories:\n",
        "                if category in ['Fantasy', 'Mystery', 'Science Fiction', 'Romance', 'Fiction']:\n",
        "                    for author in authors:\n",
        "                        books.append({'Author': author, 'Genre': category, 'Title': title})\n",
        "\n",
        "    books_df = pd.DataFrame(books)\n",
        "    filtered_books = {}\n",
        "    for genre in ['Fantasy', 'Mystery', 'Science Fiction', 'Romance', 'Fiction']:\n",
        "        filtered_books[genre] = books_df[books_df['Genre'] == genre].head(15)\n",
        "    return filtered_books"
      ],
      "metadata": {
        "id": "dH4fZDIYS_IU"
      },
      "execution_count": 14,
      "outputs": []
    },
    {
      "cell_type": "code",
      "source": [
        "#Code in use\n",
        "user_query = \"fiction\"\n",
        "book_data = fetch_books_data(user_query)\n",
        "books_table = create_books_table(book_data)\n",
        "\n",
        "# Displaying 15 books from each genre\n",
        "for genre, books in books_table.items():\n",
        "    print(f\"{genre} Books:\")\n",
        "    print(books)\n",
        "    print(\"------\")\n"
      ],
      "metadata": {
        "colab": {
          "base_uri": "https://localhost:8080/"
        },
        "id": "SUS_vkc4Tg8j",
        "outputId": "04bd0597-357f-41bc-f52e-fc269e1f5be6"
      },
      "execution_count": 16,
      "outputs": [
        {
          "output_type": "stream",
          "name": "stdout",
          "text": [
            "Fantasy Books:\n",
            "Empty DataFrame\n",
            "Columns: [Author, Genre, Title]\n",
            "Index: []\n",
            "------\n",
            "Mystery Books:\n",
            "Empty DataFrame\n",
            "Columns: [Author, Genre, Title]\n",
            "Index: []\n",
            "------\n",
            "Science Fiction Books:\n",
            "Empty DataFrame\n",
            "Columns: [Author, Genre, Title]\n",
            "Index: []\n",
            "------\n",
            "Romance Books:\n",
            "Empty DataFrame\n",
            "Columns: [Author, Genre, Title]\n",
            "Index: []\n",
            "------\n",
            "Fiction Books:\n",
            "                      Author    Genre  \\\n",
            "0          Jonathan Baumbach  Fiction   \n",
            "1   Gotham Writers' Workshop  Fiction   \n",
            "2             Gardner Dozois  Fiction   \n",
            "3                  Linh Dinh  Fiction   \n",
            "4             Philip K. Dick  Fiction   \n",
            "5           Roger F. Kennedy  Fiction   \n",
            "6                 Lauren Fox  Fiction   \n",
            "7          Diane Setterfield  Fiction   \n",
            "8           Karen Joy Fowler  Fiction   \n",
            "9                   M. Brake  Fiction   \n",
            "10                   N. Hook  Fiction   \n",
            "11             Brooks Landon  Fiction   \n",
            "12                A. Stevens  Fiction   \n",
            "13               Sharon Sala  Fiction   \n",
            "14                   Unknown  Fiction   \n",
            "\n",
            "                                                Title  \n",
            "0                 The Life and Times of Major Fiction  \n",
            "1                                     Writing Fiction  \n",
            "2   The Year's Best Science Fiction: Thirty-Second...  \n",
            "3                                        Night, Again  \n",
            "4                          The Man in the High Castle  \n",
            "5                             Collected Short Fiction  \n",
            "6                                         Send for Me  \n",
            "7                                 The Thirteenth Tale  \n",
            "8                                               Booth  \n",
            "9                                   Different Engines  \n",
            "10                                  Different Engines  \n",
            "11                         Science Fiction After 1900  \n",
            "12            British Historical Fiction before Scott  \n",
            "13                                        Swept Aside  \n",
            "14  Uncle John's Bathroom Reader Presents Flush Fi...  \n",
            "------\n"
          ]
        }
      ]
    },
    {
      "cell_type": "code",
      "source": [],
      "metadata": {
        "id": "v43okQCvTwce"
      },
      "execution_count": null,
      "outputs": []
    }
  ]
}