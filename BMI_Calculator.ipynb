{
  "nbformat": 4,
  "nbformat_minor": 0,
  "metadata": {
    "colab": {
      "provenance": [],
      "authorship_tag": "ABX9TyMSDnp40k9NQmMSfQl6OCg3",
      "include_colab_link": true
    },
    "kernelspec": {
      "name": "python3",
      "display_name": "Python 3"
    },
    "language_info": {
      "name": "python"
    }
  },
  "cells": [
    {
      "cell_type": "markdown",
      "metadata": {
        "id": "view-in-github",
        "colab_type": "text"
      },
      "source": [
        "<a href=\"https://colab.research.google.com/github/Syelding/BMIcal.py/blob/main/BMI_Calculator.ipynb\" target=\"_parent\"><img src=\"https://colab.research.google.com/assets/colab-badge.svg\" alt=\"Open In Colab\"/></a>"
      ]
    },
    {
      "cell_type": "markdown",
      "source": [
        "##BMI Calculator using Python\n",
        "\n",
        "Source of BMI data = https://mercer-health.com/services/weight-management-center/bmi-calculator\n",
        "\n"
      ],
      "metadata": {
        "id": "AZPwdcOPKSDb"
      }
    },
    {
      "cell_type": "code",
      "source": [
        "name = input(\"Enter your name: \")\n",
        "weight = int(input(\"Enter your weight in lbs: \"))\n",
        "height = int(input(\"Enter your height in inches: \"))\n",
        "#BMI Formula\n",
        "BMI = (weight * 703) / (height  * height )\n",
        "print(BMI)"
      ],
      "metadata": {
        "colab": {
          "base_uri": "https://localhost:8080/"
        },
        "id": "iiniF2cDLPLt",
        "outputId": "73fedf77-d68f-49d0-d42b-8e0510610e6f"
      },
      "execution_count": 5,
      "outputs": [
        {
          "output_type": "stream",
          "name": "stdout",
          "text": [
            "Enter your name: Sheila\n",
            "Enter your weight in lbs: 155\n",
            "Enter your height in inches: 60\n",
            "30.268055555555556\n"
          ]
        }
      ]
    },
    {
      "cell_type": "code",
      "source": [
        "Under 18.5\tUnderweight\tMinimal\n",
        "18.5 - 24.9\tNormal Weight\tMinimal\n",
        "25 - 29.9\tOverweight\tIncreased\n",
        "30 - 34.9\tObese\tHigh\n",
        "35 - 39.9\tSeverely Obese\tVery High\n",
        "40 and over\tMorbidly Obese\tExtremely High\n"
      ],
      "metadata": {
        "id": "ZBvk091ZQ8LD"
      },
      "execution_count": null,
      "outputs": []
    },
    {
      "cell_type": "code",
      "source": [
        "if BMI>0:\n",
        "  if(BMI < 18.5):\n",
        "    print(name +\", you are underweight\")\n",
        "  elif(BMI<=249):\n",
        "    print(name +\", your weright is normal\")\n",
        "  elif(BMI<29.9):\n",
        "    print(name +\", you might be obese\")\n",
        "  elif(BMI<34.9):\n",
        "    print(name +\", you might be sverely obese\")\n",
        "  elif(BMI<39.9):\n",
        "    print(name +\", you might be sverely obese\")\n",
        "  else:\n",
        "    print(name +\", you are morbidly obese\")\n"
      ],
      "metadata": {
        "colab": {
          "base_uri": "https://localhost:8080/"
        },
        "id": "m7wU2mtZRGEa",
        "outputId": "ea575932-c373-4575-a34e-43b2455a8071"
      },
      "execution_count": 6,
      "outputs": [
        {
          "output_type": "stream",
          "name": "stdout",
          "text": [
            "Sheila, your weright is normal\n"
          ]
        }
      ]
    }
  ]
}