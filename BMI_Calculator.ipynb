{
  "nbformat": 4,
  "nbformat_minor": 0,
  "metadata": {
    "colab": {
      "provenance": [],
      "authorship_tag": "ABX9TyP+wPQ+KundKtEeBXjQ9+jL",
      "include_colab_link": true
    },
    "kernelspec": {
      "name": "python3",
      "display_name": "Python 3"
    },
    "language_info": {
      "name": "python"
    }
  },
  "cells": [
    {
      "cell_type": "markdown",
      "metadata": {
        "id": "view-in-github",
        "colab_type": "text"
      },
      "source": [
        "<a href=\"https://colab.research.google.com/github/Syelding/BMIcal.py/blob/main/BMI_Calculator.ipynb\" target=\"_parent\"><img src=\"https://colab.research.google.com/assets/colab-badge.svg\" alt=\"Open In Colab\"/></a>"
      ]
    },
    {
      "cell_type": "markdown",
      "source": [
        "##BMI Calculator using Python\n",
        "\n",
        "Source of BMI data = https://mercer-health.com/services/weight-management-center/bmi-calculator\n",
        "\n"
      ],
      "metadata": {
        "id": "AZPwdcOPKSDb"
      }
    },
    {
      "cell_type": "code",
      "source": [
        "weight = int(input(\"Enter your weight in lbs: \"))\n",
        "height = int(input(\"Enter your height in inches: \"))\n",
        "#BMI Formula\n",
        "BMI = (weight * 703) / (height  * height )\n",
        "print(BMI)"
      ],
      "metadata": {
        "colab": {
          "base_uri": "https://localhost:8080/"
        },
        "id": "iiniF2cDLPLt",
        "outputId": "18331bae-e52c-4cde-b4eb-22f5996784cb"
      },
      "execution_count": 4,
      "outputs": [
        {
          "output_type": "stream",
          "name": "stdout",
          "text": [
            "Enter your weight in lbs: 155\n",
            "Enter your height in inches: 60\n",
            "30.268055555555556\n"
          ]
        }
      ]
    }
  ]
}